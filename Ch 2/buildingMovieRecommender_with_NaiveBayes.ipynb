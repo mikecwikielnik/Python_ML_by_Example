{
 "cells": [
  {
   "cell_type": "code",
   "execution_count": 1,
   "source": [
    "import numpy as np\n",
    "from collections import defaultdict\n",
    "data_path = 'C:/Users/mikec/OneDrive/Google One Drive/Google Drive/Py_files/Python/Python ML by Example, 3rd Ed/Python-Machine-Learning-By-Example-Third-Edition-master/chapter2/m1-1m/ratings.dat'\n",
    "n_users = 6040\n",
    "n_movies = 3706\n",
    "# We then develop the following function to load the rating data from ratings.dat:\n",
    "\n",
    "def load_rating_data(data_path, n_users, n_movies):\n",
    "    \"\"\"\n",
    "    Load rating data from file and also return the number of ratings\n",
    "        for each movie and movie_id index mapping\n",
    "    @param data_path: path of the rating data file\n",
    "    @param n_users: number of users\n",
    "    @param n_movies: number of movies that have ratings\n",
    "    @return: rating data in the numpy array of [user, movie];\n",
    "        movie_n_rating, {movie_id: number of ratings};\n",
    "        movie_id_mapping, {movie_id: column index in rating data}\n",
    "    \"\"\"\n",
    "    data = np.zeros([n_users, n_movies], dtype=np.float32)\n",
    "    movie_id_mapping = {}\n",
    "    movie_n_rating = defaultdict(int)\n",
    "    with open(data_path, 'r') as file:\n",
    "        for line in file.readlines()[1:]:\n",
    "            user_id, movie_id, rating, _ = line.split(\",\")\n",
    "            user_id = int(user_id) - 1\n",
    "            if movie_id not in movie_id_mapping:\n",
    "                movie_id_mapping[movie_id] = len(movie_id_mapping)\n",
    "            rating = int(float(rating))\n",
    "            data[user_id, movie_id_mapping[movie_id]] = rating\n",
    "            if rating > 0:\n",
    "                movie_n_rating[movie_id] += 1\n",
    "    return data, movie_n_rating, movie_id_mapping\n",
    "# And then we load the data using this function:\n",
    "\n",
    "data, movie_n_rating, movie_id_mapping = load_rating_data(data_path, n_users, n_movies)"
   ],
   "outputs": [
    {
     "output_type": "error",
     "ename": "ValueError",
     "evalue": "not enough values to unpack (expected 4, got 1)",
     "traceback": [
      "\u001b[1;31m---------------------------------------------------------------------------\u001b[0m",
      "\u001b[1;31mValueError\u001b[0m                                Traceback (most recent call last)",
      "\u001b[1;32mc:\\Users\\mikec\\OneDrive\\Google One Drive\\Google Drive\\Py_files\\Python\\Python ML by Example, 3rd Ed\\Python-Machine-Learning-By-Example-Third-Edition-master\\chapter2\\buildingMovieRecommender_with_NaiveBayes.py\u001b[0m in \u001b[0;36mline 35\n\u001b[0;32m     <a href='file:///c%3A/Users/mikec/OneDrive/Google%20One%20Drive/Google%20Drive/Py_files/Python/Python%20ML%20by%20Example%2C%203rd%20Ed/Python-Machine-Learning-By-Example-Third-Edition-master/chapter2/buildingMovieRecommender_with_NaiveBayes.py?line=46'>47</a>\u001b[0m     \u001b[39mreturn\u001b[39;00m data, movie_n_rating, movie_id_mapping\n\u001b[0;32m     <a href='file:///c%3A/Users/mikec/OneDrive/Google%20One%20Drive/Google%20Drive/Py_files/Python/Python%20ML%20by%20Example%2C%203rd%20Ed/Python-Machine-Learning-By-Example-Third-Edition-master/chapter2/buildingMovieRecommender_with_NaiveBayes.py?line=47'>48</a>\u001b[0m \u001b[39m# And then we load the data using this function:\u001b[39;00m\n\u001b[1;32m---> <a href='file:///c%3A/Users/mikec/OneDrive/Google%20One%20Drive/Google%20Drive/Py_files/Python/Python%20ML%20by%20Example%2C%203rd%20Ed/Python-Machine-Learning-By-Example-Third-Edition-master/chapter2/buildingMovieRecommender_with_NaiveBayes.py?line=49'>50</a>\u001b[0m data, movie_n_rating, movie_id_mapping \u001b[39m=\u001b[39m load_rating_data(data_path, n_users, n_movies)\n",
      "\u001b[1;32mc:\\Users\\mikec\\OneDrive\\Google One Drive\\Google Drive\\Py_files\\Python\\Python ML by Example, 3rd Ed\\Python-Machine-Learning-By-Example-Third-Edition-master\\chapter2\\buildingMovieRecommender_with_NaiveBayes.py\u001b[0m in \u001b[0;36mline 24\u001b[0m, in \u001b[0;36mload_rating_data\u001b[1;34m(data_path, n_users, n_movies)\n\u001b[0;32m     <a href='file:///c%3A/Users/mikec/OneDrive/Google%20One%20Drive/Google%20Drive/Py_files/Python/Python%20ML%20by%20Example%2C%203rd%20Ed/Python-Machine-Learning-By-Example-Third-Edition-master/chapter2/buildingMovieRecommender_with_NaiveBayes.py?line=36'>37</a>\u001b[0m \u001b[39mwith\u001b[39;00m \u001b[39mopen\u001b[39m(data_path, \u001b[39m'\u001b[39m\u001b[39mr\u001b[39m\u001b[39m'\u001b[39m) \u001b[39mas\u001b[39;00m file:\n\u001b[0;32m     <a href='file:///c%3A/Users/mikec/OneDrive/Google%20One%20Drive/Google%20Drive/Py_files/Python/Python%20ML%20by%20Example%2C%203rd%20Ed/Python-Machine-Learning-By-Example-Third-Edition-master/chapter2/buildingMovieRecommender_with_NaiveBayes.py?line=37'>38</a>\u001b[0m     \u001b[39mfor\u001b[39;00m line \u001b[39min\u001b[39;00m file\u001b[39m.\u001b[39mreadlines()[\u001b[39m1\u001b[39m:]:\n\u001b[1;32m---> <a href='file:///c%3A/Users/mikec/OneDrive/Google%20One%20Drive/Google%20Drive/Py_files/Python/Python%20ML%20by%20Example%2C%203rd%20Ed/Python-Machine-Learning-By-Example-Third-Edition-master/chapter2/buildingMovieRecommender_with_NaiveBayes.py?line=38'>39</a>\u001b[0m         user_id, movie_id, rating, _ \u001b[39m=\u001b[39m line\u001b[39m.\u001b[39msplit(\u001b[39m\"\u001b[39m\u001b[39m,\u001b[39m\u001b[39m\"\u001b[39m)\n\u001b[0;32m     <a href='file:///c%3A/Users/mikec/OneDrive/Google%20One%20Drive/Google%20Drive/Py_files/Python/Python%20ML%20by%20Example%2C%203rd%20Ed/Python-Machine-Learning-By-Example-Third-Edition-master/chapter2/buildingMovieRecommender_with_NaiveBayes.py?line=39'>40</a>\u001b[0m         user_id \u001b[39m=\u001b[39m \u001b[39mint\u001b[39m(user_id) \u001b[39m-\u001b[39m \u001b[39m1\u001b[39m\n\u001b[0;32m     <a href='file:///c%3A/Users/mikec/OneDrive/Google%20One%20Drive/Google%20Drive/Py_files/Python/Python%20ML%20by%20Example%2C%203rd%20Ed/Python-Machine-Learning-By-Example-Third-Edition-master/chapter2/buildingMovieRecommender_with_NaiveBayes.py?line=40'>41</a>\u001b[0m         \u001b[39mif\u001b[39;00m movie_id \u001b[39mnot\u001b[39;00m \u001b[39min\u001b[39;00m movie_id_mapping:\n",
      "\u001b[1;31mValueError\u001b[0m: not enough values to unpack (expected 4, got 1)"
     ]
    }
   ],
   "metadata": {}
  }
 ],
 "nbformat": 4,
 "nbformat_minor": 2,
 "metadata": {
  "language_info": {
   "codemirror_mode": {
    "name": "ipython",
    "version": 3
   },
   "file_extension": ".py",
   "mimetype": "text/x-python",
   "name": "python",
   "nbconvert_exporter": "python",
   "pygments_lexer": "ipython3",
   "version": 3
  },
  "orig_nbformat": 4
 }
}